{
 "cells": [
  {
   "cell_type": "code",
   "execution_count": 16,
   "metadata": {},
   "outputs": [],
   "source": [
    "from pitchplots.static import tonnetz\n",
    "import matplotlib.pyplot as plt\n",
    "import glob"
   ]
  },
  {
   "cell_type": "code",
   "execution_count": 4,
   "metadata": {},
   "outputs": [
    {
     "data": {
      "text/plain": [
       "['data\\\\56997-Sonate_No._17_Tempest_1st_Movement.mxl.csv',\n",
       " 'data\\\\Brahms_116_1.csv',\n",
       " 'data\\\\BWV_846.csv',\n",
       " 'data\\\\Chopin_Opus_28_4.csv',\n",
       " 'data\\\\dodekaton.csv',\n",
       " 'data\\\\enneaton.csv',\n",
       " 'data\\\\Gesualdo_OVos.csv',\n",
       " 'data\\\\heptaton.csv',\n",
       " 'data\\\\hexa.csv',\n",
       " 'data\\\\hexaton.csv',\n",
       " 'data\\\\hexa_triads.csv',\n",
       " 'data\\\\Liszt_Lugubre_gondola_I_200_1.csv',\n",
       " 'data\\\\machaut_detoutes.csv',\n",
       " 'data\\\\octa.csv',\n",
       " 'data\\\\octa_triads.csv',\n",
       " 'data\\\\pentaton.csv',\n",
       " 'data\\\\Ravel_-_Miroirs_I.csv',\n",
       " 'data\\\\Reichardt_Louise_-_Zwolf_Gesange_No.1_-_Erinnrung_am_Bach.mxl.csv',\n",
       " 'data\\\\rosamunde.csv',\n",
       " 'data\\\\Salve-Regina_Lasso.csv',\n",
       " 'data\\\\Satie_-_Gnossiennes_1.csv',\n",
       " 'data\\\\Scherzo_Focoso_Opus_34_in_B_Minor.mxl.csv',\n",
       " 'data\\\\Schubert_90_2.csv',\n",
       " 'data\\\\sonata01-1.csv',\n",
       " 'data\\\\Sonate_No._17_Tempest_1st_Movement.csv',\n",
       " 'data\\\\Symphony_No._9_2nd_Movement.csv',\n",
       " 'data\\\\Trauervorspiel_und_Trauermarsch_S._206.csv',\n",
       " 'data\\\\triton.csv',\n",
       " 'data\\\\Wanderer_Fantasy.csv',\n",
       " 'data\\\\Webern_Variationen_1.csv',\n",
       " 'data\\\\wholetone.csv']"
      ]
     },
     "execution_count": 4,
     "metadata": {},
     "output_type": "execute_result"
    }
   ],
   "source": [
    "files = glob.glob(\"data/*.csv\")\n",
    "files"
   ]
  },
  {
   "cell_type": "code",
   "execution_count": 32,
   "metadata": {},
   "outputs": [
    {
     "data": {
      "text/plain": [
       "<Figure size 432x288 with 0 Axes>"
      ]
     },
     "metadata": {},
     "output_type": "display_data"
    }
   ],
   "source": [
    "fig = tonnetz(\n",
    "    files[0], \n",
    "    colorbar=False,\n",
    "    figsize=(10,10),\n",
    "    fontsize=2,\n",
    "    cmap='Reds'\n",
    ")\n",
    "\n",
    " fig.savefig('net.png', dpi=600)"
   ]
  },
  {
   "cell_type": "code",
   "execution_count": 29,
   "metadata": {},
   "outputs": [
    {
     "data": {
      "text/plain": [
       "<matplotlib.axes._subplots.AxesSubplot at 0x1e4c3e19ac8>"
      ]
     },
     "execution_count": 29,
     "metadata": {},
     "output_type": "execute_result"
    }
   ],
   "source": [
    "ax"
   ]
  },
  {
   "cell_type": "code",
   "execution_count": null,
   "metadata": {},
   "outputs": [],
   "source": []
  }
 ],
 "metadata": {
  "kernelspec": {
   "display_name": "Python 3",
   "language": "python",
   "name": "python3"
  },
  "language_info": {
   "codemirror_mode": {
    "name": "ipython",
    "version": 3
   },
   "file_extension": ".py",
   "mimetype": "text/x-python",
   "name": "python",
   "nbconvert_exporter": "python",
   "pygments_lexer": "ipython3",
   "version": "3.6.0"
  }
 },
 "nbformat": 4,
 "nbformat_minor": 2
}
